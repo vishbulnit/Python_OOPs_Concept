{
 "cells": [
  {
   "cell_type": "markdown",
   "id": "029a98dc",
   "metadata": {},
   "source": [
    "# Python Inheritance Example"
   ]
  },
  {
   "cell_type": "markdown",
   "id": "e5c60153",
   "metadata": {},
   "source": [
    "### Single Inheritance"
   ]
  },
  {
   "cell_type": "code",
   "execution_count": 51,
   "id": "a374953c",
   "metadata": {},
   "outputs": [],
   "source": [
    "# parent class\n",
    "class veg_restaurant:\n",
    "    def veg_food(self):\n",
    "        print(\"You will find only the veg food in this restaurants.\")\n",
    "\n",
    "# child class inheriting parent class    \n",
    "class nonveg_restaurant(veg_restaurant):\n",
    "    def nonveg_food(self):\n",
    "        print(\"You will find only non-veg food in this restaurants.\") \n",
    "                "
   ]
  },
  {
   "cell_type": "code",
   "execution_count": 52,
   "id": "c5306f02",
   "metadata": {},
   "outputs": [],
   "source": [
    "obj_veg=veg_restaurant()"
   ]
  },
  {
   "cell_type": "code",
   "execution_count": 53,
   "id": "2456a4a0",
   "metadata": {},
   "outputs": [
    {
     "name": "stdout",
     "output_type": "stream",
     "text": [
      "You will find only the veg food in this restaurants.\n"
     ]
    }
   ],
   "source": [
    "obj_veg.veg_food()"
   ]
  },
  {
   "cell_type": "code",
   "execution_count": 54,
   "id": "eab4bc94",
   "metadata": {},
   "outputs": [],
   "source": [
    "obj_nonveg=nonveg_restaurant()"
   ]
  },
  {
   "cell_type": "code",
   "execution_count": 55,
   "id": "4932d221",
   "metadata": {},
   "outputs": [
    {
     "name": "stdout",
     "output_type": "stream",
     "text": [
      "You will find only the veg food in this restaurants.\n"
     ]
    }
   ],
   "source": [
    "obj_nonveg.veg_food()"
   ]
  },
  {
   "cell_type": "code",
   "execution_count": 56,
   "id": "543e378f",
   "metadata": {},
   "outputs": [
    {
     "name": "stdout",
     "output_type": "stream",
     "text": [
      "You will find only non-veg food in this restaurants.\n"
     ]
    }
   ],
   "source": [
    "obj_nonveg.nonveg_food()"
   ]
  },
  {
   "cell_type": "code",
   "execution_count": null,
   "id": "769f7156",
   "metadata": {},
   "outputs": [],
   "source": []
  },
  {
   "cell_type": "markdown",
   "id": "7789fb8f",
   "metadata": {},
   "source": [
    "### Multilevel Inheritance"
   ]
  },
  {
   "cell_type": "code",
   "execution_count": 9,
   "id": "3eb66105",
   "metadata": {},
   "outputs": [],
   "source": [
    "class level_one:\n",
    "    def addition(self,a,b):\n",
    "        add=a+b\n",
    "        return add\n",
    "    \n",
    "class level_two(level_one):\n",
    "    def substraction(self,a,b):\n",
    "        sub=a-b\n",
    "        return sub    \n",
    "\n",
    "class level_three(level_two):\n",
    "    def multiplication(self,a,b):\n",
    "        mul=a*b\n",
    "        return mul\n",
    "    \n",
    "class level_four(level_three):\n",
    "    def division(self,a,b):\n",
    "        div=a/b\n",
    "        return div    "
   ]
  },
  {
   "cell_type": "code",
   "execution_count": 12,
   "id": "41e82666",
   "metadata": {},
   "outputs": [
    {
     "data": {
      "text/plain": [
       "90"
      ]
     },
     "execution_count": 12,
     "metadata": {},
     "output_type": "execute_result"
    }
   ],
   "source": [
    "## while accessing level one will be able to perform addition only\n",
    "\n",
    "obj_one=level_one()\n",
    "obj_one.addition(68,22)"
   ]
  },
  {
   "cell_type": "code",
   "execution_count": 15,
   "id": "461bc1e4",
   "metadata": {},
   "outputs": [
    {
     "name": "stdout",
     "output_type": "stream",
     "text": [
      "4\n",
      "-2\n"
     ]
    }
   ],
   "source": [
    "## while accessing level two will be able to perform addition and substraction\n",
    "\n",
    "obj_two=level_two()\n",
    "x = obj_two.addition(1,3)\n",
    "print(x)\n",
    "y = obj_two.substraction(7,9)\n",
    "print(y)"
   ]
  },
  {
   "cell_type": "code",
   "execution_count": 17,
   "id": "ff8229b9",
   "metadata": {},
   "outputs": [
    {
     "name": "stdout",
     "output_type": "stream",
     "text": [
      "9\n",
      "4\n",
      "27\n"
     ]
    }
   ],
   "source": [
    "## while accessing level three will be able to perform addition, substraction, and multiplication\n",
    "\n",
    "obj_three=level_three()\n",
    "\n",
    "x = obj_three.addition(6,3)\n",
    "print(x)\n",
    "y = obj_three.substraction(8,4)\n",
    "print(y)\n",
    "z = obj_three.multiplication(9,3)\n",
    "print(z)"
   ]
  },
  {
   "cell_type": "code",
   "execution_count": 18,
   "id": "afd24e8a",
   "metadata": {},
   "outputs": [
    {
     "name": "stdout",
     "output_type": "stream",
     "text": [
      "8\n",
      "46\n",
      "40\n",
      "16.0\n"
     ]
    }
   ],
   "source": [
    "## while accessing level four will be able to perform addition, substraction, multiplication, division\n",
    "\n",
    "obj_four=level_four()\n",
    "\n",
    "x = obj_four.addition(7,1)\n",
    "print(x)\n",
    "y = obj_four.substraction(89,43)\n",
    "print(y)\n",
    "z = obj_four.multiplication(5,8)\n",
    "print(z)\n",
    "aa = obj_four.division(80,5)\n",
    "print(aa)"
   ]
  },
  {
   "cell_type": "markdown",
   "id": "05645f6f",
   "metadata": {},
   "source": [
    "### Multiple Inheritance"
   ]
  },
  {
   "cell_type": "code",
   "execution_count": 25,
   "id": "dc754232",
   "metadata": {},
   "outputs": [],
   "source": [
    "class level_one:\n",
    "    def addition(self,a,b):\n",
    "        add=a+b\n",
    "        return add\n",
    "    \n",
    "class level_two:\n",
    "    def substraction(self,a,b):\n",
    "        sub=a-b\n",
    "        return sub    \n",
    "\n",
    "class level_three:\n",
    "    def multiplication(self,a,b):\n",
    "        mul=a*b\n",
    "        return mul\n",
    "    \n",
    "class level_four:\n",
    "    def division(self,a,b):\n",
    "        div=a/b\n",
    "        return div    "
   ]
  },
  {
   "cell_type": "code",
   "execution_count": 26,
   "id": "2f35058a",
   "metadata": {},
   "outputs": [],
   "source": [
    "# this class inherits all properties of level one/two/three/four\n",
    "\n",
    "class math_operation(level_one,level_two,level_three,level_four):\n",
    "    def display_message(self):\n",
    "        print(\"All methods are running successfully.\")\n"
   ]
  },
  {
   "cell_type": "code",
   "execution_count": 27,
   "id": "e529cdcf",
   "metadata": {},
   "outputs": [],
   "source": [
    "obj_mth_opr=math_operation()"
   ]
  },
  {
   "cell_type": "code",
   "execution_count": 28,
   "id": "94157f52",
   "metadata": {},
   "outputs": [
    {
     "data": {
      "text/plain": [
       "489"
      ]
     },
     "execution_count": 28,
     "metadata": {},
     "output_type": "execute_result"
    }
   ],
   "source": [
    "obj_mth_opr.addition(100,389)"
   ]
  },
  {
   "cell_type": "code",
   "execution_count": 29,
   "id": "62d841ae",
   "metadata": {},
   "outputs": [
    {
     "data": {
      "text/plain": [
       "43.30769230769231"
      ]
     },
     "execution_count": 29,
     "metadata": {},
     "output_type": "execute_result"
    }
   ],
   "source": [
    "obj_mth_opr.division(563,13)"
   ]
  },
  {
   "cell_type": "code",
   "execution_count": 30,
   "id": "9700f475",
   "metadata": {},
   "outputs": [
    {
     "data": {
      "text/plain": [
       "676"
      ]
     },
     "execution_count": 30,
     "metadata": {},
     "output_type": "execute_result"
    }
   ],
   "source": [
    "obj_mth_opr.multiplication(13,52)"
   ]
  },
  {
   "cell_type": "code",
   "execution_count": 31,
   "id": "4df84350",
   "metadata": {},
   "outputs": [
    {
     "data": {
      "text/plain": [
       "1126"
      ]
     },
     "execution_count": 31,
     "metadata": {},
     "output_type": "execute_result"
    }
   ],
   "source": [
    "obj_mth_opr.substraction(14375,13249)"
   ]
  },
  {
   "cell_type": "code",
   "execution_count": 32,
   "id": "69242639",
   "metadata": {},
   "outputs": [
    {
     "name": "stdout",
     "output_type": "stream",
     "text": [
      "All methods are running successfully.\n"
     ]
    }
   ],
   "source": [
    "obj_mth_opr.display_message()"
   ]
  },
  {
   "cell_type": "code",
   "execution_count": null,
   "id": "8d84a101",
   "metadata": {},
   "outputs": [],
   "source": []
  }
 ],
 "metadata": {
  "kernelspec": {
   "display_name": "Python 3 (ipykernel)",
   "language": "python",
   "name": "python3"
  },
  "language_info": {
   "codemirror_mode": {
    "name": "ipython",
    "version": 3
   },
   "file_extension": ".py",
   "mimetype": "text/x-python",
   "name": "python",
   "nbconvert_exporter": "python",
   "pygments_lexer": "ipython3",
   "version": "3.10.9"
  }
 },
 "nbformat": 4,
 "nbformat_minor": 5
}
