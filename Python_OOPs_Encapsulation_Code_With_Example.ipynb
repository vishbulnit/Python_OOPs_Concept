{
 "cells": [
  {
   "cell_type": "markdown",
   "id": "d12fd1ad",
   "metadata": {},
   "source": [
    "# Encapsulation"
   ]
  },
  {
   "cell_type": "markdown",
   "id": "f8c1c345",
   "metadata": {},
   "source": [
    "## Public"
   ]
  },
  {
   "cell_type": "code",
   "execution_count": 22,
   "id": "61759586",
   "metadata": {},
   "outputs": [],
   "source": [
    "class bank_account_public:\n",
    "    \n",
    "    def __init__(self, amount):\n",
    "        self.balance_public=amount\n",
    "        \n",
    "    def deposit_public(self, amount):\n",
    "        self.balance_public=self.balance_public + amount\n",
    "        \n",
    "    def withdraw_public(self, amount):\n",
    "        if self.balance_public >= amount:\n",
    "            self.balance_public=self.balance_public - amount\n",
    "            \n",
    "    def set_balance_public(self, amount):\n",
    "        self.balance_public = amount\n",
    "        \n",
    "    def get_balance_public(self):\n",
    "        return self.balance_public"
   ]
  },
  {
   "cell_type": "code",
   "execution_count": 23,
   "id": "20746de5",
   "metadata": {},
   "outputs": [],
   "source": [
    "obj_pub=bank_account_public(1000)  "
   ]
  },
  {
   "cell_type": "code",
   "execution_count": 24,
   "id": "7cd31877",
   "metadata": {},
   "outputs": [],
   "source": [
    "obj_pub.balance_public=6000"
   ]
  },
  {
   "cell_type": "code",
   "execution_count": 25,
   "id": "b730a1a2",
   "metadata": {},
   "outputs": [
    {
     "data": {
      "text/plain": [
       "6000"
      ]
     },
     "execution_count": 25,
     "metadata": {},
     "output_type": "execute_result"
    }
   ],
   "source": [
    "obj_pub.balance_public"
   ]
  },
  {
   "cell_type": "code",
   "execution_count": 26,
   "id": "3c25c529",
   "metadata": {},
   "outputs": [],
   "source": [
    "obj_pub.deposit_public(10000)"
   ]
  },
  {
   "cell_type": "code",
   "execution_count": 27,
   "id": "b5eaceef",
   "metadata": {},
   "outputs": [
    {
     "data": {
      "text/plain": [
       "16000"
      ]
     },
     "execution_count": 27,
     "metadata": {},
     "output_type": "execute_result"
    }
   ],
   "source": [
    "obj_pub.balance_public"
   ]
  },
  {
   "cell_type": "code",
   "execution_count": 28,
   "id": "551e3f0c",
   "metadata": {},
   "outputs": [],
   "source": [
    "obj_pub.set_balance_public(2000)"
   ]
  },
  {
   "cell_type": "code",
   "execution_count": 29,
   "id": "b0f74790",
   "metadata": {},
   "outputs": [
    {
     "data": {
      "text/plain": [
       "2000"
      ]
     },
     "execution_count": 29,
     "metadata": {},
     "output_type": "execute_result"
    }
   ],
   "source": [
    "obj_pub.balance_public"
   ]
  },
  {
   "cell_type": "code",
   "execution_count": 30,
   "id": "53407d88",
   "metadata": {},
   "outputs": [
    {
     "data": {
      "text/plain": [
       "2000"
      ]
     },
     "execution_count": 30,
     "metadata": {},
     "output_type": "execute_result"
    }
   ],
   "source": [
    "obj_pub.get_balance_public()"
   ]
  },
  {
   "cell_type": "code",
   "execution_count": 31,
   "id": "873d138d",
   "metadata": {},
   "outputs": [],
   "source": [
    "obj_pub.withdraw_public(500)"
   ]
  },
  {
   "cell_type": "code",
   "execution_count": 34,
   "id": "5fa6cd27",
   "metadata": {},
   "outputs": [
    {
     "data": {
      "text/plain": [
       "1500"
      ]
     },
     "execution_count": 34,
     "metadata": {},
     "output_type": "execute_result"
    }
   ],
   "source": [
    "obj_pub.balance_public"
   ]
  },
  {
   "cell_type": "code",
   "execution_count": 35,
   "id": "5d61eb48",
   "metadata": {},
   "outputs": [
    {
     "data": {
      "text/plain": [
       "['__class__',\n",
       " '__delattr__',\n",
       " '__dict__',\n",
       " '__dir__',\n",
       " '__doc__',\n",
       " '__eq__',\n",
       " '__format__',\n",
       " '__ge__',\n",
       " '__getattribute__',\n",
       " '__gt__',\n",
       " '__hash__',\n",
       " '__init__',\n",
       " '__init_subclass__',\n",
       " '__le__',\n",
       " '__lt__',\n",
       " '__module__',\n",
       " '__ne__',\n",
       " '__new__',\n",
       " '__reduce__',\n",
       " '__reduce_ex__',\n",
       " '__repr__',\n",
       " '__setattr__',\n",
       " '__sizeof__',\n",
       " '__str__',\n",
       " '__subclasshook__',\n",
       " '__weakref__',\n",
       " 'deposit_public',\n",
       " 'get_balance_public',\n",
       " 'set_balance_public',\n",
       " 'withdraw_public']"
      ]
     },
     "execution_count": 35,
     "metadata": {},
     "output_type": "execute_result"
    }
   ],
   "source": [
    "dir(bank_account_public)"
   ]
  },
  {
   "cell_type": "code",
   "execution_count": 36,
   "id": "67fd121c",
   "metadata": {},
   "outputs": [
    {
     "data": {
      "text/plain": [
       "['__class__',\n",
       " '__delattr__',\n",
       " '__dict__',\n",
       " '__dir__',\n",
       " '__doc__',\n",
       " '__eq__',\n",
       " '__format__',\n",
       " '__ge__',\n",
       " '__getattribute__',\n",
       " '__gt__',\n",
       " '__hash__',\n",
       " '__init__',\n",
       " '__init_subclass__',\n",
       " '__le__',\n",
       " '__lt__',\n",
       " '__module__',\n",
       " '__ne__',\n",
       " '__new__',\n",
       " '__reduce__',\n",
       " '__reduce_ex__',\n",
       " '__repr__',\n",
       " '__setattr__',\n",
       " '__sizeof__',\n",
       " '__str__',\n",
       " '__subclasshook__',\n",
       " '__weakref__',\n",
       " 'balance_public',\n",
       " 'deposit_public',\n",
       " 'get_balance_public',\n",
       " 'set_balance_public',\n",
       " 'withdraw_public']"
      ]
     },
     "execution_count": 36,
     "metadata": {},
     "output_type": "execute_result"
    }
   ],
   "source": [
    "dir(obj_pub)"
   ]
  },
  {
   "cell_type": "markdown",
   "id": "151b383f",
   "metadata": {},
   "source": [
    "## Private"
   ]
  },
  {
   "cell_type": "code",
   "execution_count": 46,
   "id": "81462b74",
   "metadata": {},
   "outputs": [],
   "source": [
    "class bank_account_private:\n",
    "    \n",
    "    def __init__(self, amount):\n",
    "        self.__balance_private=amount # private \n",
    "        \n",
    "    def deposit_private(self, amount):\n",
    "        self.__balance_private=self.__balance_private + amount\n",
    "        \n",
    "    def withdraw_private(self, amount):\n",
    "        if self.__balance_private >= amount:\n",
    "            self.__balance_private=self.__balance_private - amount\n",
    "            \n",
    "    def set_balance_private(self, amount):\n",
    "        self.__balance_private = amount\n",
    "        \n",
    "    def get_balance_private(self):\n",
    "        return self.__balance_private"
   ]
  },
  {
   "cell_type": "code",
   "execution_count": 48,
   "id": "9bd1c767",
   "metadata": {},
   "outputs": [],
   "source": [
    "obj_priv=bank_account_private(1000)"
   ]
  },
  {
   "cell_type": "code",
   "execution_count": 49,
   "id": "86a808f7",
   "metadata": {},
   "outputs": [
    {
     "data": {
      "text/plain": [
       "['__class__',\n",
       " '__delattr__',\n",
       " '__dict__',\n",
       " '__dir__',\n",
       " '__doc__',\n",
       " '__eq__',\n",
       " '__format__',\n",
       " '__ge__',\n",
       " '__getattribute__',\n",
       " '__gt__',\n",
       " '__hash__',\n",
       " '__init__',\n",
       " '__init_subclass__',\n",
       " '__le__',\n",
       " '__lt__',\n",
       " '__module__',\n",
       " '__ne__',\n",
       " '__new__',\n",
       " '__reduce__',\n",
       " '__reduce_ex__',\n",
       " '__repr__',\n",
       " '__setattr__',\n",
       " '__sizeof__',\n",
       " '__str__',\n",
       " '__subclasshook__',\n",
       " '__weakref__',\n",
       " '_bank_account_private__balance_private',\n",
       " 'deposit_private',\n",
       " 'get_balance_private',\n",
       " 'set_balance_private',\n",
       " 'withdraw_private']"
      ]
     },
     "execution_count": 49,
     "metadata": {},
     "output_type": "execute_result"
    }
   ],
   "source": [
    "dir(obj_priv)"
   ]
  },
  {
   "cell_type": "code",
   "execution_count": 50,
   "id": "d0eb939c",
   "metadata": {},
   "outputs": [
    {
     "data": {
      "text/plain": [
       "['__class__',\n",
       " '__delattr__',\n",
       " '__dict__',\n",
       " '__dir__',\n",
       " '__doc__',\n",
       " '__eq__',\n",
       " '__format__',\n",
       " '__ge__',\n",
       " '__getattribute__',\n",
       " '__gt__',\n",
       " '__hash__',\n",
       " '__init__',\n",
       " '__init_subclass__',\n",
       " '__le__',\n",
       " '__lt__',\n",
       " '__module__',\n",
       " '__ne__',\n",
       " '__new__',\n",
       " '__reduce__',\n",
       " '__reduce_ex__',\n",
       " '__repr__',\n",
       " '__setattr__',\n",
       " '__sizeof__',\n",
       " '__str__',\n",
       " '__subclasshook__',\n",
       " '__weakref__',\n",
       " 'deposit_private',\n",
       " 'get_balance_private',\n",
       " 'set_balance_private',\n",
       " 'withdraw_private']"
      ]
     },
     "execution_count": 50,
     "metadata": {},
     "output_type": "execute_result"
    }
   ],
   "source": [
    "dir(bank_account_private)"
   ]
  },
  {
   "cell_type": "code",
   "execution_count": 63,
   "id": "1da05b6b",
   "metadata": {},
   "outputs": [
    {
     "data": {
      "text/plain": [
       "8000"
      ]
     },
     "execution_count": 63,
     "metadata": {},
     "output_type": "execute_result"
    }
   ],
   "source": [
    "obj_priv._bank_account_private__balance_private"
   ]
  },
  {
   "cell_type": "code",
   "execution_count": 62,
   "id": "32678fdc",
   "metadata": {},
   "outputs": [
    {
     "ename": "AttributeError",
     "evalue": "'bank_account_private' object has no attribute '__balance_private'",
     "output_type": "error",
     "traceback": [
      "\u001b[1;31m---------------------------------------------------------------------------\u001b[0m",
      "\u001b[1;31mAttributeError\u001b[0m                            Traceback (most recent call last)",
      "Cell \u001b[1;32mIn[62], line 1\u001b[0m\n\u001b[1;32m----> 1\u001b[0m \u001b[43mobj_priv\u001b[49m\u001b[38;5;241;43m.\u001b[39;49m\u001b[43m__balance_private\u001b[49m\n",
      "\u001b[1;31mAttributeError\u001b[0m: 'bank_account_private' object has no attribute '__balance_private'"
     ]
    }
   ],
   "source": [
    "obj_priv.__balance_private"
   ]
  },
  {
   "cell_type": "code",
   "execution_count": 54,
   "id": "3cf24109",
   "metadata": {},
   "outputs": [
    {
     "data": {
      "text/plain": [
       "1000"
      ]
     },
     "execution_count": 54,
     "metadata": {},
     "output_type": "execute_result"
    }
   ],
   "source": [
    "obj_priv.get_balance_private()"
   ]
  },
  {
   "cell_type": "code",
   "execution_count": 55,
   "id": "495cd50a",
   "metadata": {},
   "outputs": [],
   "source": [
    "obj_priv.set_balance_private(5000)"
   ]
  },
  {
   "cell_type": "code",
   "execution_count": 56,
   "id": "5bfd2bb2",
   "metadata": {},
   "outputs": [
    {
     "data": {
      "text/plain": [
       "5000"
      ]
     },
     "execution_count": 56,
     "metadata": {},
     "output_type": "execute_result"
    }
   ],
   "source": [
    "obj_priv.get_balance_private()"
   ]
  },
  {
   "cell_type": "code",
   "execution_count": 57,
   "id": "4acbddd6",
   "metadata": {},
   "outputs": [],
   "source": [
    "obj_priv.deposit_private(5000)"
   ]
  },
  {
   "cell_type": "code",
   "execution_count": 58,
   "id": "0e071eae",
   "metadata": {},
   "outputs": [
    {
     "data": {
      "text/plain": [
       "10000"
      ]
     },
     "execution_count": 58,
     "metadata": {},
     "output_type": "execute_result"
    }
   ],
   "source": [
    "obj_priv.get_balance_private()"
   ]
  },
  {
   "cell_type": "code",
   "execution_count": 59,
   "id": "e1a31f4c",
   "metadata": {},
   "outputs": [],
   "source": [
    "obj_priv.withdraw_private(2000)"
   ]
  },
  {
   "cell_type": "code",
   "execution_count": 60,
   "id": "32c1ec99",
   "metadata": {},
   "outputs": [
    {
     "data": {
      "text/plain": [
       "8000"
      ]
     },
     "execution_count": 60,
     "metadata": {},
     "output_type": "execute_result"
    }
   ],
   "source": [
    "obj_priv.get_balance_private()"
   ]
  },
  {
   "cell_type": "code",
   "execution_count": 80,
   "id": "7875d421",
   "metadata": {},
   "outputs": [
    {
     "data": {
      "text/plain": [
       "8000"
      ]
     },
     "execution_count": 80,
     "metadata": {},
     "output_type": "execute_result"
    }
   ],
   "source": [
    "obj_priv._bank_account_private__balance_private"
   ]
  },
  {
   "cell_type": "markdown",
   "id": "8cc57104",
   "metadata": {},
   "source": [
    "## Protected"
   ]
  },
  {
   "cell_type": "code",
   "execution_count": 67,
   "id": "b2ad3072",
   "metadata": {},
   "outputs": [],
   "source": [
    "class bank_account_protected:\n",
    "    \n",
    "    def __init__(self, amount):\n",
    "        self._balance_protected=amount #  \n",
    "        \n",
    "    def deposit_protected(self, amount):\n",
    "        self._balance_protected=self._balance_protected + amount\n",
    "        \n",
    "    def withdraw_protected(self, amount):\n",
    "        if self._balance_protected >= amount:\n",
    "            self._balance_protected=self._balance_protected - amount\n",
    "            \n",
    "    def set_balance_protected(self, amount):\n",
    "        self._balance_protected = amount\n",
    "        \n",
    "    def get_balance_protected(self):\n",
    "        return self._balance_protected"
   ]
  },
  {
   "cell_type": "code",
   "execution_count": 69,
   "id": "7545cbfd",
   "metadata": {},
   "outputs": [],
   "source": [
    "obj_prot = bank_account_protected(1000)"
   ]
  },
  {
   "cell_type": "code",
   "execution_count": 70,
   "id": "a53f7e8f",
   "metadata": {},
   "outputs": [
    {
     "data": {
      "text/plain": [
       "['__class__',\n",
       " '__delattr__',\n",
       " '__dict__',\n",
       " '__dir__',\n",
       " '__doc__',\n",
       " '__eq__',\n",
       " '__format__',\n",
       " '__ge__',\n",
       " '__getattribute__',\n",
       " '__gt__',\n",
       " '__hash__',\n",
       " '__init__',\n",
       " '__init_subclass__',\n",
       " '__le__',\n",
       " '__lt__',\n",
       " '__module__',\n",
       " '__ne__',\n",
       " '__new__',\n",
       " '__reduce__',\n",
       " '__reduce_ex__',\n",
       " '__repr__',\n",
       " '__setattr__',\n",
       " '__sizeof__',\n",
       " '__str__',\n",
       " '__subclasshook__',\n",
       " '__weakref__',\n",
       " '_balance_protected',\n",
       " 'deposit_protected',\n",
       " 'get_balance_protected',\n",
       " 'set_balance_protected',\n",
       " 'withdraw_protected']"
      ]
     },
     "execution_count": 70,
     "metadata": {},
     "output_type": "execute_result"
    }
   ],
   "source": [
    "dir(obj_prot)"
   ]
  },
  {
   "cell_type": "code",
   "execution_count": 71,
   "id": "f443e4d1",
   "metadata": {},
   "outputs": [
    {
     "data": {
      "text/plain": [
       "['__class__',\n",
       " '__delattr__',\n",
       " '__dict__',\n",
       " '__dir__',\n",
       " '__doc__',\n",
       " '__eq__',\n",
       " '__format__',\n",
       " '__ge__',\n",
       " '__getattribute__',\n",
       " '__gt__',\n",
       " '__hash__',\n",
       " '__init__',\n",
       " '__init_subclass__',\n",
       " '__le__',\n",
       " '__lt__',\n",
       " '__module__',\n",
       " '__ne__',\n",
       " '__new__',\n",
       " '__reduce__',\n",
       " '__reduce_ex__',\n",
       " '__repr__',\n",
       " '__setattr__',\n",
       " '__sizeof__',\n",
       " '__str__',\n",
       " '__subclasshook__',\n",
       " '__weakref__',\n",
       " 'deposit_protected',\n",
       " 'get_balance_protected',\n",
       " 'set_balance_protected',\n",
       " 'withdraw_protected']"
      ]
     },
     "execution_count": 71,
     "metadata": {},
     "output_type": "execute_result"
    }
   ],
   "source": [
    "dir(bank_account_protected)"
   ]
  },
  {
   "cell_type": "code",
   "execution_count": 72,
   "id": "aebb97ab",
   "metadata": {},
   "outputs": [
    {
     "data": {
      "text/plain": [
       "1000"
      ]
     },
     "execution_count": 72,
     "metadata": {},
     "output_type": "execute_result"
    }
   ],
   "source": [
    "obj_prot._balance_protected"
   ]
  },
  {
   "cell_type": "code",
   "execution_count": 73,
   "id": "0a1fcb30",
   "metadata": {},
   "outputs": [],
   "source": [
    "obj_prot.set_balance_protected(3000)"
   ]
  },
  {
   "cell_type": "code",
   "execution_count": 74,
   "id": "0fbd9a20",
   "metadata": {},
   "outputs": [
    {
     "data": {
      "text/plain": [
       "3000"
      ]
     },
     "execution_count": 74,
     "metadata": {},
     "output_type": "execute_result"
    }
   ],
   "source": [
    "obj_prot.get_balance_protected()"
   ]
  },
  {
   "cell_type": "code",
   "execution_count": 75,
   "id": "a78772ce",
   "metadata": {},
   "outputs": [
    {
     "data": {
      "text/plain": [
       "8000"
      ]
     },
     "execution_count": 75,
     "metadata": {},
     "output_type": "execute_result"
    }
   ],
   "source": [
    "obj_prot.deposit_protected(5000)\n",
    "obj_prot.get_balance_protected()"
   ]
  },
  {
   "cell_type": "code",
   "execution_count": 76,
   "id": "327bbefe",
   "metadata": {},
   "outputs": [
    {
     "data": {
      "text/plain": [
       "6000"
      ]
     },
     "execution_count": 76,
     "metadata": {},
     "output_type": "execute_result"
    }
   ],
   "source": [
    "obj_prot.withdraw_protected(2000)\n",
    "obj_prot.get_balance_protected()"
   ]
  },
  {
   "cell_type": "code",
   "execution_count": 77,
   "id": "b801310a",
   "metadata": {},
   "outputs": [],
   "source": [
    "obj_prot._balance_protected=10000"
   ]
  },
  {
   "cell_type": "code",
   "execution_count": 78,
   "id": "cc0762fa",
   "metadata": {},
   "outputs": [
    {
     "data": {
      "text/plain": [
       "10000"
      ]
     },
     "execution_count": 78,
     "metadata": {},
     "output_type": "execute_result"
    }
   ],
   "source": [
    "obj_prot._balance_protected"
   ]
  },
  {
   "cell_type": "code",
   "execution_count": null,
   "id": "a1d37bf0",
   "metadata": {},
   "outputs": [],
   "source": []
  }
 ],
 "metadata": {
  "kernelspec": {
   "display_name": "Python 3 (ipykernel)",
   "language": "python",
   "name": "python3"
  },
  "language_info": {
   "codemirror_mode": {
    "name": "ipython",
    "version": 3
   },
   "file_extension": ".py",
   "mimetype": "text/x-python",
   "name": "python",
   "nbconvert_exporter": "python",
   "pygments_lexer": "ipython3",
   "version": "3.10.9"
  }
 },
 "nbformat": 4,
 "nbformat_minor": 5
}
