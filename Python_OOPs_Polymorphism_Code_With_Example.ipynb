{
 "cells": [
  {
   "cell_type": "markdown",
   "id": "71bfcad6",
   "metadata": {},
   "source": [
    "# Polymorphism\n",
    "\n",
    "What is Polymorphism: The word polymorphism means having many forms. In programming, polymorphism means the same function name (but different signatures) being used for different types. The key difference is the data types and number of arguments used in function."
   ]
  },
  {
   "cell_type": "code",
   "execution_count": 1,
   "id": "bd8d05e4",
   "metadata": {},
   "outputs": [
    {
     "name": "stdout",
     "output_type": "stream",
     "text": [
      "[1, 2, 3, 4, 5, 6]\n",
      "type:  <class 'list'>\n",
      "len:  6\n",
      "--------------------------------------\n",
      "{'one': 1, 'two': 2, 'three': 3, 'four': 4, 'five': 5}\n",
      "type:  <class 'dict'>\n",
      "len:  5\n",
      "--------------------------------------\n",
      "Good Morning\n",
      "type:  <class 'str'>\n",
      "len:  12\n",
      "--------------------------------------\n",
      "('sun', 'mon', 'tue', 'wed', 'thu', 'fri', 'sat')\n",
      "type:  <class 'tuple'>\n",
      "len:  7\n",
      "--------------------------------------\n"
     ]
    }
   ],
   "source": [
    "lst=[1,2,3,4,5,6]\n",
    "dic={'one':1,'two':2,'three':3,'four':4,'five':5}\n",
    "strng=\"Good Morning\"\n",
    "tpl=('sun','mon','tue','wed','thu','fri','sat')\n",
    "\n",
    "print(lst)\n",
    "print('type: ',type(lst))\n",
    "print('len: ',len(lst))\n",
    "print(\"--------------------------------------\")\n",
    "print(dic)\n",
    "print('type: ',type(dic))\n",
    "print('len: ',len(dic))\n",
    "print(\"--------------------------------------\")\n",
    "print(strng)\n",
    "print('type: ',type(strng))\n",
    "print('len: ',len(strng))\n",
    "print(\"--------------------------------------\")\n",
    "print(tpl)\n",
    "print('type: ',type(tpl))\n",
    "print('len: ',len(tpl))\n",
    "print(\"--------------------------------------\")"
   ]
  },
  {
   "cell_type": "markdown",
   "id": "7a3e3444",
   "metadata": {},
   "source": [
    "#### I created custom classes to explain the polymorphism concept in Python.\n",
    "#### I created three different classes with the same method name, \"math_subject.\"\n",
    "#### Since the method name is the same but its functionality is different with respect to each class, it is behaving differently in different environments.\n"
   ]
  },
  {
   "cell_type": "code",
   "execution_count": 2,
   "id": "92e027d6",
   "metadata": {},
   "outputs": [],
   "source": [
    "class collageA:\n",
    "    def math_subject(self):\n",
    "        print(\"Teacher is teaching Math topic- addition, multiplication, substraction, division\")\n",
    "\n",
    "class collageB:\n",
    "    def __init__(self,a,b):\n",
    "        self.a=a\n",
    "        self.b=b    \n",
    "    def math_subject(self):\n",
    "        add=self.a+self.b\n",
    "        sub=self.a-self.b\n",
    "        print(f\"Addition: {add}, Substraction: {sub}\")\n",
    "\n",
    "class collageC:\n",
    "    def __init__(self,a,b):\n",
    "        self.a=a\n",
    "        self.b=b  \n",
    "    def math_subject(self):\n",
    "        mul=self.a*self.b\n",
    "        div=self.a/self.b\n",
    "        print(f\"Multiplication: {mul}, Division: {div}\")                "
   ]
  },
  {
   "cell_type": "code",
   "execution_count": 3,
   "id": "b15d1e77",
   "metadata": {},
   "outputs": [
    {
     "name": "stdout",
     "output_type": "stream",
     "text": [
      "Teacher is teaching Math topic- addition, multiplication, substraction, division\n",
      "None\n",
      "-------------------------\n",
      "Addition: 17, Substraction: 7\n",
      "None\n",
      "-------------------------\n",
      "Multiplication: 528, Division: 8.25\n",
      "None\n",
      "-------------------------\n"
     ]
    }
   ],
   "source": [
    "a=collageA()\n",
    "b=collageB(12,5)\n",
    "c=collageC(66,8)\n",
    "abc=[a,b,c]\n",
    "for i in abc:\n",
    "    print(i.math_subject()) # method name is same but functionality is different\n",
    "    print(\"-------------------------\")"
   ]
  },
  {
   "cell_type": "code",
   "execution_count": null,
   "id": "a1d37bf0",
   "metadata": {},
   "outputs": [],
   "source": []
  }
 ],
 "metadata": {
  "kernelspec": {
   "display_name": "Python 3 (ipykernel)",
   "language": "python",
   "name": "python3"
  },
  "language_info": {
   "codemirror_mode": {
    "name": "ipython",
    "version": 3
   },
   "file_extension": ".py",
   "mimetype": "text/x-python",
   "name": "python",
   "nbconvert_exporter": "python",
   "pygments_lexer": "ipython3",
   "version": "3.10.9"
  }
 },
 "nbformat": 4,
 "nbformat_minor": 5
}
